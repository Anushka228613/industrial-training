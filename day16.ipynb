{
 "cells": [
  {
   "cell_type": "code",
   "execution_count": 1,
   "metadata": {},
   "outputs": [],
   "source": [
    "#GUI - Graphical User Interface"
   ]
  },
  {
   "cell_type": "code",
   "execution_count": 2,
   "id": "6934c73d",
   "metadata": {},
   "outputs": [],
   "source": [
    "#Libraries\n",
    "#################\n",
    "#1.Tkinter\n",
    "#2.PyQT\n",
    "#3.Turtle"
   ]
  },
  {
   "cell_type": "code",
   "execution_count": 3,
   "id": "f732853d",
   "metadata": {},
   "outputs": [],
   "source": [
    "import tkinter as ttk"
   ]
  },
  {
   "cell_type": "code",
   "execution_count": 4,
   "id": "e83febf0",
   "metadata": {},
   "outputs": [],
   "source": [
    "app = ttk.Tk()"
   ]
  },
  {
   "cell_type": "code",
   "execution_count": null,
   "id": "ed6b3f46",
   "metadata": {},
   "outputs": [],
   "source": [
    "app.mainloop()"
   ]
  }
 ],
 "metadata": {
  "kernelspec": {
   "display_name": "Python 3.10.7 64-bit",
   "language": "python",
   "name": "python3"
  },
  "language_info": {
   "codemirror_mode": {
    "name": "ipython",
    "version": 3
   },
   "file_extension": ".py",
   "mimetype": "text/x-python",
   "name": "python",
   "nbconvert_exporter": "python",
   "pygments_lexer": "ipython3",
   "version": "3.10.7"
  },
  "vscode": {
   "interpreter": {
    "hash": "33e0af1d55fc37216f69772f2b060b4a0bb459839d382ce2f18c3a869a7bd71f"
   }
  }
 },
 "nbformat": 4,
 "nbformat_minor": 5
}
